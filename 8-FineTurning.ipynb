{
 "cells": [
  {
   "cell_type": "code",
   "execution_count": null,
   "id": "dc555064-bc6f-4d14-930e-a105d09cc850",
   "metadata": {},
   "outputs": [],
   "source": [
    "qual os melhores valores para os parametros"
   ]
  },
  {
   "cell_type": "code",
   "execution_count": null,
   "id": "bf5b2b3d-4fbe-4625-8901-d42db1d4ff00",
   "metadata": {},
   "outputs": [],
   "source": [
    "random search \n",
    "define valores para cada um dos hiperparametros aleatoriamente\n",
    "DESV: pode ter parametros melhores pois nao faz todos\n",
    "VANT : RAPIDO E FACIL"
   ]
  },
  {
   "cell_type": "code",
   "execution_count": null,
   "id": "83421f5e-b2ba-483a-aac1-88646a0a9c36",
   "metadata": {},
   "outputs": [],
   "source": [
    "grid search\n",
    "defini todas as combinações possiveis de valores que os\n",
    "hiperparametros podem assumir\n",
    "DESV : pode demorar dias\n",
    "VANT:melhor performace\n",
    "\n",
    "o fineturning aumenta a acuracia até 3% oq faz aumentar mais a performace é as feature criar novas feature\n",
    "coleta mais dados"
   ]
  },
  {
   "cell_type": "markdown",
   "id": "50c37198-7503-436f-a8bc-d567a2715ba4",
   "metadata": {},
   "source": [
    "bayesian search\n",
    "usa os parametros aleatoriamente mas usa aprendizado\n",
    "ex: usa aleatorio se o parametro deu acuracia boa ele fica e muda os outros eai faz varias interações dessas\n",
    "trocando valores baseado ao aprendizado anteriores\n",
    "nao é simples igual random mas n é tao complexo igual o grid"
   ]
  },
  {
   "cell_type": "code",
   "execution_count": null,
   "id": "d047080e-67fc-40af-8e87-4d70cb7575b0",
   "metadata": {},
   "outputs": [],
   "source": [
    "vamos usar random search pois é mais rapido"
   ]
  },
  {
   "cell_type": "markdown",
   "id": "33c88fb5-38f8-4074-8775-ef936589d939",
   "metadata": {},
   "source": [
    "# Random Search"
   ]
  },
  {
   "cell_type": "code",
   "execution_count": null,
   "id": "31d3caad-e3e6-4573-b6d3-c23b6cae8797",
   "metadata": {},
   "outputs": [],
   "source": [
    "#\n",
    "\n",
    "model_xgb_tuned =     xgb.XGBRegressor( objective='reg:squarederror',\n",
    "                                        n_estimators=param_tuned['n_estimators'],\n",
    "                                        eta=param_tuned['eta'],\n",
    "                                        max_depth=param_tuned['max_depth'],\n",
    "                                        subsample=param_tuned['subsample'],\n",
    "                                        colsample_bytee=param_tuned['colsample_bytree'],\n",
    "                                        ֒min_child_weight=param_tuned['min_child_weight'] ).fit( x_train, y_train )\n",
    "                                        # prediction\n",
    "                                        yhat_xgb_tuned = model_xgb_tuned.predict( x_test )\n",
    "                                        # performance\n",
    "                                        xgb_result_tuned = ml_error( 'XGBoost Regressor', np.expm1( y_test ), np.expm1(yhat_xgb_tuned ) )\n",
    "                                        xgb_result_tuned"
   ]
  },
  {
   "cell_type": "code",
   "execution_count": null,
   "id": "3b4e4621-def5-4914-b72f-e4468e397d28",
   "metadata": {},
   "outputs": [],
   "source": [
    "#colocar os parametros que quero que faz as performace aleatoriamente\n",
    "param_tuned = {\n",
    "'n_estimators': 3000,\n",
    "'eta': 0.03,\n",
    "'max_depth': 5,\n",
    "'subsample': 0.7,\n",
    "'colsample_bytree': 0.7,\n",
    "'min_child_weight': 3\n",
    "}"
   ]
  },
  {
   "cell_type": "code",
   "execution_count": null,
   "id": "326439e2-b7b9-4f93-a311-98b6db173217",
   "metadata": {},
   "outputs": [],
   "source": [
    "param = {\n",
    " 'n_estimators': [1500, 1700, 2500, 3000, 3500],\n",
    " 'eta': [0.01, 0.03],\n",
    " 'max_depth': [3, 5, 9],\n",
    " 'subsample': [0.1, 0.5, 0.7],\n",
    " 'colsample_bytree': [0.3, 0.7, 0.9],\n",
    " 'min_child_weight': [3, 8, 15]\n",
    " }\n",
    "\n",
    "MAX_EVAL = 5\n",
    " final_result = pd.DataFrame()\n",
    "\n",
    "for i in range( MAX_EVAL ):\n",
    " # choose values for parameters randomly\n",
    "     hp = { k: random.sample( v, 1 )[0] for k, v in param.items() }\n",
    "     print( hp )\n",
    "     model\n",
    "     model_xgb = xgb.XGBRegressor( objective='reg:squarederror',\n",
    "     n_estimators=hp['n_estimators'],\n",
    "     eta=hp['eta'],\n",
    "     max_depth=hp['max_depth'],\n",
    "     subsample=hp['subsample'],\n",
    "     colsample_bytee=hp['colsample_bytree'],\n",
    "     min_child_weight=hp['min_child_weight'] )\n",
    "\n",
    "  #performance\n",
    " result = cross_validation( x_training, 5, 'XGBoost Regressor', model_xgb,verbose=True )\n",
    " final_result = pd.concat( [final_result, result] )\n",
    "#\n",
    "final_result"
   ]
  },
  {
   "cell_type": "code",
   "execution_count": null,
   "id": "b5812db9-9822-47d4-a88e-ac33788876f9",
   "metadata": {},
   "outputs": [],
   "source": []
  },
  {
   "cell_type": "markdown",
   "id": "8684ec58-ee98-40ea-8dd2-918126eac86b",
   "metadata": {},
   "source": [
    "# Final Model"
   ]
  },
  {
   "cell_type": "code",
   "execution_count": null,
   "id": "954b26c3-c705-4b70-bea3-907189ebc975",
   "metadata": {},
   "outputs": [],
   "source": []
  },
  {
   "cell_type": "code",
   "execution_count": null,
   "id": "d2de14d2-975e-4c3e-a205-222dec523567",
   "metadata": {},
   "outputs": [],
   "source": []
  }
 ],
 "metadata": {
  "kernelspec": {
   "display_name": "Python 3 (ipykernel)",
   "language": "python",
   "name": "python3"
  },
  "language_info": {
   "codemirror_mode": {
    "name": "ipython",
    "version": 3
   },
   "file_extension": ".py",
   "mimetype": "text/x-python",
   "name": "python",
   "nbconvert_exporter": "python",
   "pygments_lexer": "ipython3",
   "version": "3.12.2"
  }
 },
 "nbformat": 4,
 "nbformat_minor": 5
}
