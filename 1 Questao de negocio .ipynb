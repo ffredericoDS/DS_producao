{
 "cells": [
  {
   "cell_type": "code",
   "execution_count": null,
   "id": "46f745e8-978a-42e9-943d-d17516661367",
   "metadata": {},
   "outputs": [],
   "source": [
    "# ESTRUTURA DE TREINAMENTO "
   ]
  },
  {
   "cell_type": "code",
   "execution_count": null,
   "id": "1f36b5a3-af46-451c-9b00-4255ba1c8735",
   "metadata": {},
   "outputs": [],
   "source": [
    "10 PASSOS\n",
    "\n",
    "DESCRIÇÂO DOS DADOS \n",
    "FEATURE ENGINNERING\n",
    "FILTRAGEM DE VARIAVEIS\n",
    "ANALISE EXPLORATORIA DE DADOS\n",
    "PREPARAÇÂO DOS DADOS\n",
    "SELECAO DE VARIAVEIS COM ALGORITMO\n",
    "MODELO DE MACHINE LEARNING\n",
    "HYPERPARAMETER FINE TURING\n",
    "INTERPRETAÇÂO E TRADUÇÂO DO ERRO\n",
    "DEPLOY DO MEDELO EM PRODUÇÂO"
   ]
  },
  {
   "cell_type": "code",
   "execution_count": null,
   "id": "c31bc6b1-c43b-474a-aaf3-44ddc9b59de7",
   "metadata": {},
   "outputs": [],
   "source": [
    "DESCRIÇÂO DOS DADOS \n",
    "\n",
    "FEATURE ENGINNERING\n",
    "derivar features do dataset original\n",
    "fazer no começo e nao no meio\n",
    "\n",
    "FILTRAGEM DE VARIAVEIS\n",
    "interpretar negocio \n",
    "e filtrar algumas variaveis\n",
    "\n",
    "ANALISE EXPLORATORIA DE DADOS\n",
    "*****INSIGHT\n",
    "\n",
    "PREPARAÇÂO DOS DADOS\n",
    "prepara o dados para o machine learning\n",
    "\n",
    "SELECAO DE VARIAVEIS COM ALGORITMO\n",
    "selecionar as variasveis mais relevantes para o algortmo\n",
    "\n",
    "MODELO DE MACHINE LEARNING\n",
    "\n",
    "HYPERPARAMETER FINE TURING\n",
    "melhores parametros do modelo para maximizar performace\n",
    "\n",
    "INTERPRETAÇÂO E TRADUÇÂO DO ERRO\n",
    "entender a performace do algortmo e traduzir o 'erro'\n",
    "\n",
    "DEPLOY DO MEDELO EM PRODUÇÂO\n",
    "colocar o modelo em produção para que todo mundo use"
   ]
  },
  {
   "cell_type": "code",
   "execution_count": null,
   "id": "2c81a6c6-f168-483f-88d3-582e7dd20487",
   "metadata": {},
   "outputs": [],
   "source": [
    "# Problema de negocio"
   ]
  },
  {
   "cell_type": "code",
   "execution_count": null,
   "id": "de70b155-a407-4782-8a10-6bf5ed3765ef",
   "metadata": {},
   "outputs": [],
   "source": [
    "100 PESSOAS TE PEDEM PARA FAZER UMA PREVISAO DIARIA DAS PROXIMAS 6 SEMANAS DE VENDAS\n",
    "COMO FAZER ISSO ?\n",
    "PRIMEIRO PASSO É NAO SAIR FAZENDO SEM UM PLANEJAMNETO"
   ]
  },
  {
   "cell_type": "code",
   "execution_count": null,
   "id": "6a14cb8b-0c02-47c6-a80c-415c31c2674e",
   "metadata": {},
   "outputs": [],
   "source": [
    "entender a motivação \n",
    "-qual o contexto? \n",
    "-para encontrar a causa raiz\n",
    "\n",
    "-porque fazer uma previsao de vendas ?\n",
    "fazer melhor planjamento do stoke , ter mais acuracia da receita da loja\n",
    "fazer algum tipo de investimento\n",
    "\n",
    "quem é o dono do problema ?\n",
    "CEO\n",
    "\n",
    "-quem sera o stakeholder(quem vai guiar no problema)\n",
    "\n",
    "\n",
    "- o formato da solução\n",
    "(diaria,semanal,mes,semestral)\n",
    "-tipo do problema(calssificação , previsão , clusterização)\n",
    "para encontrar potenciais metodos\n",
    "- formato de entrega(dashboard,streamlit,csv)"
   ]
  },
  {
   "cell_type": "code",
   "execution_count": null,
   "id": "bedc308b-2b24-4203-a46a-207cb17a831c",
   "metadata": {},
   "outputs": [],
   "source": [
    "nosso problema : quer fazer previsao pq quer fazer reforma na loja\n",
    "e quer usar parte do dinheiro que vai entrar nas proximas 6 semanas\n",
    "para usar na reforma\n",
    "stakehold - CFO\n",
    "\n",
    "tipo de problema : PREDIÇÂO\n",
    "metodo : (time series , regressao , redes neurais )\n",
    "formato: celular\n",
    "formato da solução é previsao de vendar nas proximas 6 semanas"
   ]
  },
  {
   "cell_type": "code",
   "execution_count": null,
   "id": "e68df6ad-4893-418f-8205-46ac5f894bbd",
   "metadata": {},
   "outputs": [],
   "source": [
    "DATA SET QUE VAMOS USAR \n",
    "Rossmann opera mais de 3.000 drogarias em 7 países europeus. Atualmente, os gerentes das lojas Rossmann têm a tarefa de prever suas vendas diárias\n",
    "com até seis semanas de antecedência. As vendas nas lojas são influenciadas por muitos fatores, incluindo promoções, concorrência, feriados escolares e estaduais,\n",
    "sazonalidade, e localidade. Com milhares de gestores individuais prevendo vendas com base em circunstâncias específicas, a precisão dos resultados pode ser\n",
    "bastante variada.\n",
    "Em sua primeira competição Kaggle, Rossmann desafia você a prever 6 semanas de vendas diárias para 1.115 lojas localizadas em toda a Alemanha.\n",
    "Previsões de vendas confiáveis ​​permitem que os gerentes de loja criem cronogramas de equipe eficazes que aumentam a produtividade e a motivação.\n",
    "Ao ajudar a Rossmann a criar um modelo de previsão robusto, você ajudará os gerentes de loja a manterem o foco no que é mais importante para eles: seus clientes\n",
    "e suas equipes! Rossmann operates over 3,000 drug stores in 7 European countries. Currently, Rossmann store managers are tasked with predicting their daily sales \n",
    "    for up to six weeks in advance. Store sales are influenced by many factors, including promotions, competition, school and state holidays, seasonality, \n",
    "and locality. With thousands of individual managers predicting sales based on their unique circumstances, the accuracy of results can be quite varied.\n",
    "\n",
    "In their first Kaggle competition, Rossmann is challenging you to predict 6 weeks of daily sales for 1,115 stores located across Germany. \n",
    "Reliable sales forecasts enable store managers to create effective staff schedules that increase productivity and motivation.\n",
    "By helping Rossmann create a robust prediction model, you will help store managers stay focused on what’s most important to them: their customers and their teams! \n",
    "\n",
    "\n",
    "Campos de dados\n",
    "A maioria dos campos é autoexplicativa. A seguir estão as descrições daqueles que não o são.\n",
    "\n",
    "Id - um Id que representa um duple (Loja, Data) dentro do conjunto de teste\n",
    "Loja – um ID exclusivo para cada loja\n",
    "Vendas - o faturamento de um determinado dia (é isso que você está prevendo)\n",
    "Clientes - o número de clientes em um determinado dia\n",
    "Aberta - um indicador para saber se a loja estava aberta: 0 = fechada, 1 = aberta\n",
    "StateHoliday – indica feriado estadual. Normalmente todas as lojas, com poucas exceções, fecham nos feriados estaduais.\n",
    "Observe que todas as escolas estão fechadas nos feriados e fins de semana. a = feriado, b = feriado de Páscoa, c = Natal, 0 = Nenhum\n",
    "SchoolHoliday - indica se a (Loja, Data) foi afetada pelo fechamento de escolas públicas\n",
    "StoreType - diferencia entre 4 modelos de loja diferentes: a, b, c, d\n",
    "Sortimento - descreve um nível de sortimento: a = básico, b = extra, c = estendido\n",
    "CompetitionDistance - distância em metros até a loja concorrente mais próxima\n",
    "CompetitionOpenSince[Month/Year] - fornece o ano e mês aproximados da hora em que o concorrente mais próximo foi aberto\n",
    "Promoção - indica se uma loja está realizando uma promoção naquele dia\n",
    "Promo2 - Promo2 é uma promoção contínua e consecutiva para algumas lojas: 0 = loja não participa, 1 = loja participa\n",
    "Promo2Since[Ano/Semana] - descreve o ano e a semana do calendário em que a loja começou a participar da Promo2\n",
    "PromoInterval - descreve os intervalos consecutivos de início da Promo2, nomeando os meses em que a promoção é reiniciada. Por exemplo. \"Fevereiro, maio, agosto, novembro\n",
    "\"significa que cada rodada começa em fevereiro, maio, agosto, novembro de qualquer ano para aquela loja"
   ]
  },
  {
   "cell_type": "code",
   "execution_count": null,
   "id": "4ee9deb1-ac60-453e-b126-cc7ab17d06f3",
   "metadata": {},
   "outputs": [],
   "source": [
    "vamos utilizar o python 3.8.0\n",
    "pyenv "
   ]
  },
  {
   "cell_type": "code",
   "execution_count": null,
   "id": "72f3fccc-2410-4a0e-9a61-870dd24728e5",
   "metadata": {},
   "outputs": [],
   "source": [
    "git\n",
    "para configurar no meu github\n",
    "\n",
    "git config --global user.name \"Frederico Pereira\"\n",
    "git config --global user.email \"frederico.pereira020@gmail.com\""
   ]
  },
  {
   "cell_type": "code",
   "execution_count": null,
   "id": "e938a69a-ca55-4850-9151-ef4db4174855",
   "metadata": {},
   "outputs": [],
   "source": [
    "# CICLO CRISP DS"
   ]
  },
  {
   "cell_type": "code",
   "execution_count": null,
   "id": "d08fc762-334e-4ab0-8cfb-312a0664eb70",
   "metadata": {},
   "outputs": [],
   "source": [
    "metódo ciclico de desenvolvimento\n",
    "\n",
    "time de negócio quer acuracia de 85% minha acuracia tem 60%\n",
    "entao vou continuar no ciclo até chegar no 85%"
   ]
  },
  {
   "cell_type": "code",
   "execution_count": null,
   "id": "da5297a2-8d50-4bb3-bb16-21dd0c3723bb",
   "metadata": {},
   "outputs": [],
   "source": [
    "primeiro ciclo CRISP completo :\n",
    "    - ja vou ter algo para entregar (vou ter o algortmo de 60%) , eai vou fazendo para aumentar acuracia\n",
    "    - tem que ser rapido para entregar valor ao negocio \n",
    "    - feito é melhor que perfeito (fazer a base e vou mehorando)\n",
    "    - velocidade de entrega de valor\n",
    "    - mapeamento de todos os possiveis problemas"
   ]
  },
  {
   "cell_type": "code",
   "execution_count": null,
   "id": "94d1eaf3-d9fa-480f-b964-e41e1004fe73",
   "metadata": {},
   "outputs": [],
   "source": [
    "CICLO CRISP\n",
    "\n",
    "questão de negócio -> entendimento do negócio -> coleta dos dados -> limpeza dos dados -> exploração dos dados -> modelagem dos dados -> \n",
    "algoritmo de machine learning -> avaliação do algortimo -> modelo em produção(nao vai ter a melhor acuracia e sim terminar o primeiro ciclo) -> \n",
    "ENTENDIMENTO DO NEGÒCIO(voltar ao primeiro clilo)"
   ]
  },
  {
   "cell_type": "code",
   "execution_count": null,
   "id": "3dab1c99-8634-4b29-8697-04cfd3e8b88e",
   "metadata": {},
   "outputs": [],
   "source": [
    "o bom de usar o crisp é que vc mostra todas as etapas do projeto]\n",
    "e vc consegue mostrar aonde vc ta e oq falta fazer "
   ]
  },
  {
   "cell_type": "code",
   "execution_count": null,
   "id": "2f7cba63-ac40-4f53-8873-409b2f53aa99",
   "metadata": {},
   "outputs": [],
   "source": [
    "CRISP-DS no desafio do rossmann\n",
    "\n",
    "\n",
    "questão de negócio\n",
    "-entender o negócio , como a empresa funciona\n",
    "\n",
    "entendimento do negócio \n",
    "-entender o problema , normamlmente oq chega nao é a solução e sim o problema\n",
    "\n",
    "coleta dos dados\n",
    "-SQL\n",
    "\n",
    "limpeza dos dados\n",
    "-limpar dados como ç , dados limpos\n",
    "\n",
    "exploração dos dados\n",
    "- estudar as variaveis e o impacto que ela gera no que estamos trabalhando\n",
    "- quais fatores que influencia na venda faz aumentr diminui\n",
    "\n",
    "modelagem dos dados\n",
    "-preparar os dados (separar treino e teste por exemplo)\n",
    "\n",
    "algoritmo de machine learning\n",
    "-aplicar Ml nos dados que modelei\n",
    "\n",
    "avaliação do algortimo \n",
    "- calcular mae MAPE , acuracia , curva roc\n",
    "\n",
    "modelo em produção(nao vai ter a melhor acuracia e sim terminar o primeiro ciclo) \n",
    "    -dificilmente vai estar com acuracia muito boa \n",
    "    -descobrir os problemas ao implementar a solução\n",
    "    -voltar ao inicio entenidmneto do negócio"
   ]
  }
 ],
 "metadata": {
  "kernelspec": {
   "display_name": "Python 3 (ipykernel)",
   "language": "python",
   "name": "python3"
  },
  "language_info": {
   "codemirror_mode": {
    "name": "ipython",
    "version": 3
   },
   "file_extension": ".py",
   "mimetype": "text/x-python",
   "name": "python",
   "nbconvert_exporter": "python",
   "pygments_lexer": "ipython3",
   "version": "3.12.2"
  }
 },
 "nbformat": 4,
 "nbformat_minor": 5
}
