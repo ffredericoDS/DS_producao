{
 "cells": [
  {
   "cell_type": "markdown",
   "id": "d32f8f30-1cbd-4b9c-b4ef-1c1275d61eaa",
   "metadata": {},
   "source": [
    "# Interpretação e tradução do erro"
   ]
  },
  {
   "cell_type": "code",
   "execution_count": null,
   "id": "31303162-eabc-4d00-89aa-e7e3389495bf",
   "metadata": {},
   "outputs": [],
   "source": [
    "como converte a performace do modelo de machine leraning para o modelo de negocio \n",
    "dizer quanto de dinheiro o modelo vai trazer se ele tem uma acuracia de 70%\n",
    "oq esses 70% representa em valor financeiro ou valor de clientes "
   ]
  },
  {
   "cell_type": "code",
   "execution_count": null,
   "id": "cdb0b15b-2f5d-48f3-a60c-5a2895cdaa92",
   "metadata": {},
   "outputs": [],
   "source": [
    "modelo de machine learning é apenas um meio do projeto"
   ]
  },
  {
   "cell_type": "code",
   "execution_count": null,
   "id": "20a3f9b9-6c4b-4187-a8ca-3b30af1a763b",
   "metadata": {},
   "outputs": [],
   "source": [
    "quanto de r$ esse modelo vai trazer para a empresa?\n",
    "- valor real do machine learning\n"
   ]
  },
  {
   "cell_type": "code",
   "execution_count": null,
   "id": "3e857849-4fa2-4366-9de3-d11d6ae5734b",
   "metadata": {},
   "outputs": [],
   "source": [
    "performace no modelo de regressao\n",
    "MAE\n",
    "MAPE\n",
    "RMSE\n",
    "MPE\n",
    "\n",
    "\n",
    "performace do modelo sobre o negocio\n",
    "- comparação com o status quo(comparar com oque tal pesssoa acha ou com a média)\n",
    "- incremento de receita"
   ]
  },
  {
   "cell_type": "markdown",
   "id": "a03e655b-05c6-43cb-9b64-c46957e652ac",
   "metadata": {},
   "source": [
    "# MAE"
   ]
  },
  {
   "cell_type": "code",
   "execution_count": null,
   "id": "8f295ede-2c08-47a3-bd42-aacb44eeefb9",
   "metadata": {},
   "outputs": [],
   "source": [
    "|média das somas do valor previsto  - valor real|/numero de ocorrencias\n",
    "faz em módulo\n",
    "atribui peso igual para todos os erros\n"
   ]
  },
  {
   "cell_type": "code",
   "execution_count": null,
   "id": "fdb6902d-4fab-4c6e-bc74-b14eb9edfa78",
   "metadata": {},
   "outputs": [],
   "source": []
  },
  {
   "cell_type": "markdown",
   "id": "fd2f473c-ffd7-4a37-a73a-f9614e72e649",
   "metadata": {},
   "source": [
    "# MAPE"
   ]
  },
  {
   "cell_type": "code",
   "execution_count": null,
   "id": "4886fd72-f00e-478a-a7a9-87cebe75641a",
   "metadata": {},
   "outputs": [],
   "source": [
    "erro = (valor real - valor predito / ocorrencias ) / 100"
   ]
  },
  {
   "cell_type": "code",
   "execution_count": null,
   "id": "b49ff257-79da-4437-8abf-dd41b7abec0f",
   "metadata": {},
   "outputs": [],
   "source": [
    "é o mae só que em pocentagem\n",
    "\n",
    "no nosso modelo foi 10% de erro\n",
    "664 reais  o mae do nosso modelo"
   ]
  },
  {
   "cell_type": "code",
   "execution_count": null,
   "id": "0d76ed2a-8e6e-482c-89e3-0535ab62e8da",
   "metadata": {},
   "outputs": [],
   "source": [
    "pq o mape é complementar ao mae \n",
    "como saber se 664 reais é alto ou baixo\n",
    "\n",
    "valor minimo e maximo e o range da variavel resposta"
   ]
  },
  {
   "cell_type": "code",
   "execution_count": null,
   "id": "8f63a529-50ea-4061-a259-a40ffa650a8a",
   "metadata": {},
   "outputs": [],
   "source": [
    "np.expm1(y_test.max())\n"
   ]
  },
  {
   "cell_type": "code",
   "execution_count": null,
   "id": "f49e4d19-9963-450c-b210-5acb39be48da",
   "metadata": {},
   "outputs": [],
   "source": [
    "np.expm1(y_test.min())\n"
   ]
  },
  {
   "cell_type": "code",
   "execution_count": null,
   "id": "d7da7a52-c2b9-4016-a5da-78ea24521ecc",
   "metadata": {},
   "outputs": [],
   "source": [
    "#fazer exponencial pq ele ta logaritmo no ML\n",
    "\n",
    "range = np.expm1(y_test.max()) - np.expm1(y_test.min())\n",
    "\n",
    " "
   ]
  },
  {
   "cell_type": "code",
   "execution_count": null,
   "id": "291cc9dd-9eec-489f-b12f-2a3e0954776e",
   "metadata": {},
   "outputs": [],
   "source": [
    "#média de vendas que faço e eu faço 600 de erro\n",
    "np.expm1(y_test.mean())\n"
   ]
  },
  {
   "cell_type": "code",
   "execution_count": null,
   "id": "788f1635-de6e-4e15-8940-3946e911e5ab",
   "metadata": {},
   "outputs": [],
   "source": [
    "a diferença deu 41 mil , entao eu tenho 41 mil em branding de variavel resposta\n",
    "meu errro é 600 real entao nosso modelo ta bom\n",
    "600 real nao interfere tanto\n",
    "10% de erro\n",
    "em media faço vendas de 6695 e cada previsao que eu fizer tem erro de 600 real"
   ]
  },
  {
   "cell_type": "code",
   "execution_count": null,
   "id": "5bc13342-11a6-4ce9-83e6-d1aa46ea9833",
   "metadata": {},
   "outputs": [],
   "source": [
    "mape é bom pq caso vender 100\n",
    "vou vende 90 ou 110 pq o mape é pra baixo e pra cima"
   ]
  },
  {
   "cell_type": "code",
   "execution_count": null,
   "id": "e00b1d03-bb6d-4371-bb85-1d631192724c",
   "metadata": {},
   "outputs": [],
   "source": [
    "mape mostra o quao longe a predicao esta do valor real , na media , em porcentagem\n",
    "muito usado na divulgação de resultados\n",
    "MAPE nao pode usar quando tem q variavel resposta igual a 0\n"
   ]
  },
  {
   "cell_type": "code",
   "execution_count": null,
   "id": "3bd3ebdf-5174-4c67-9c06-9848a769c736",
   "metadata": {},
   "outputs": [],
   "source": []
  },
  {
   "cell_type": "markdown",
   "id": "c8031115-4fde-41f2-b80d-f69d8861503b",
   "metadata": {},
   "source": [
    "# RMSE"
   ]
  },
  {
   "cell_type": "code",
   "execution_count": null,
   "id": "0a0e3243-26ad-4728-867f-fc6f4082a676",
   "metadata": {},
   "outputs": [],
   "source": [
    "(valor real - valor previsto)² = e extrai a raiz/ocorrencia "
   ]
  },
  {
   "cell_type": "code",
   "execution_count": null,
   "id": "c8e90c43-8eed-42b2-91b0-cb0395a79cff",
   "metadata": {},
   "outputs": [],
   "source": [
    "RMSE É SENSIVEL A OUTLIER\n",
    "rmse usar só quando usar rigor na metrica (for definir morte de alguem)\n",
    "metrica para melhorar o modelo\n",
    "sempre tentar melhorar o rmse no modelo de ml , se ta 900 abaixa pra 800\n",
    "mas para o time de negócio falar o mape e mae que é mais facil de entender"
   ]
  },
  {
   "cell_type": "markdown",
   "id": "2f675615-f9e9-4165-bbc9-2f315bf2a229",
   "metadata": {},
   "source": [
    "# MPE"
   ]
  },
  {
   "cell_type": "code",
   "execution_count": null,
   "id": "e4a1a4e1-697e-4dc3-bd28-a71e945c8b39",
   "metadata": {},
   "outputs": [],
   "source": [
    "nao desconsidera o erro -10 ou 10 , nao usa modulo\n",
    "entao deixa o modelo superestimando ou subestimando\n",
    "as vezes tem caso ex : querer deixar estoque ou n deixar estoque\n",
    "entao ele vai mostrar apenas se ta supperestimando ou subestimando\n",
    "\n",
    "nao pode ser usado para medir performance do modelo"
   ]
  },
  {
   "cell_type": "code",
   "execution_count": null,
   "id": "4b1701aa-2d6f-4b0b-89cb-374487289e8c",
   "metadata": {},
   "outputs": [],
   "source": [
    "def mean_percent_error\n",
    "np.mean(y-yha/y ) ver no gpt depois "
   ]
  },
  {
   "cell_type": "code",
   "execution_count": null,
   "id": "639796c4-f1d3-47f4-9906-044f5f9cd9d1",
   "metadata": {},
   "outputs": [],
   "source": [
    "deu -0,3 \n",
    "entao o modelo está superestimando as vendas"
   ]
  },
  {
   "cell_type": "code",
   "execution_count": null,
   "id": "8beb656f-bfcf-4fee-9d2e-9292decbdb8c",
   "metadata": {},
   "outputs": [],
   "source": []
  },
  {
   "cell_type": "code",
   "execution_count": null,
   "id": "33240b1d-0b61-48e2-b13c-43155f565db4",
   "metadata": {},
   "outputs": [],
   "source": [
    "performance do modelo de regressao \n",
    "RMSE E MPE"
   ]
  },
  {
   "cell_type": "code",
   "execution_count": null,
   "id": "20d7a5c5-883c-40a5-9aaf-b279fe90da5c",
   "metadata": {},
   "outputs": [],
   "source": [
    "performance do modelo sobre negocio\n",
    "MAE , MAPE , MPE"
   ]
  },
  {
   "cell_type": "markdown",
   "id": "15f7cb9e-b5e6-48b1-bade-5edfbad88693",
   "metadata": {},
   "source": [
    "# o impacto do erro sobre o negocio"
   ]
  },
  {
   "cell_type": "markdown",
   "id": "535b3ac0-faf3-4562-a77f-1d0b0a54df00",
   "metadata": {},
   "source": [
    "#### comparação com o status quo"
   ]
  },
  {
   "cell_type": "code",
   "execution_count": null,
   "id": "3c4c1a91-c0ac-41c6-88d8-d73b60a40735",
   "metadata": {},
   "outputs": [],
   "source": [
    "- empresa ja tem o quanto vai ganhar \n",
    "- comparar o meu modelo com a solução existente"
   ]
  },
  {
   "cell_type": "code",
   "execution_count": null,
   "id": "31b00c65-f905-489f-b815-43882d97e3af",
   "metadata": {},
   "outputs": [],
   "source": [
    "ERRO ATUAL    ERRO MODELO     MELHORIA\n",
    "mae=1100       mae=665          mae=435(-40%)\n",
    "mape=17%       mape=10%         mape=7%\n",
    "\n",
    "quer dizer que o meu modelo melhorou a acuracia em 40%"
   ]
  },
  {
   "cell_type": "code",
   "execution_count": null,
   "id": "7e3e9287-33ba-41b0-9696-1537fafbc214",
   "metadata": {},
   "outputs": [],
   "source": []
  },
  {
   "cell_type": "markdown",
   "id": "3c029d8b-9acf-4d3d-b11b-c6e49e0f8c66",
   "metadata": {},
   "source": [
    "#### incremento de receita "
   ]
  },
  {
   "cell_type": "code",
   "execution_count": null,
   "id": "53ca09ca-c8c9-4b92-b3e7-3153866f37d1",
   "metadata": {},
   "outputs": [],
   "source": [
    "usar apenas meu trabalho para mostrar"
   ]
  },
  {
   "cell_type": "markdown",
   "id": "5127327b-cf29-4a7e-a941-be96a6b70971",
   "metadata": {},
   "source": [
    "## business performance"
   ]
  },
  {
   "cell_type": "code",
   "execution_count": null,
   "id": "473b132d-eb3b-434a-8f7c-773a5fe39e10",
   "metadata": {},
   "outputs": [],
   "source": []
  },
  {
   "cell_type": "code",
   "execution_count": null,
   "id": "f531aadc-7ce1-460c-88e4-c78890430e58",
   "metadata": {},
   "outputs": [],
   "source": [
    "vai mostrar o predictions que é o quanto a loja supostamente vai vender e o mae\n",
    "pegar o mae e colocar + e - \n",
    "vai se torna melhor cenario e pior cenario\n",
    "ai vejo o mape caso o erro seja pequeno usar melhor cenario\n",
    "caso o mape seja alto colocar o pior cenario"
   ]
  },
  {
   "cell_type": "code",
   "execution_count": null,
   "id": "b3b3f6f9-fc53-4f4d-b1e5-336f661eb07f",
   "metadata": {},
   "outputs": [],
   "source": [
    "algumas lojas tem 50% de mape , mudar algumas coisa no proximo crisp\n",
    "fazer um modelo só para essas lojas \n",
    "colocar mais variaveis\n",
    "fazer scatter para ver o o mape de todas as lojas"
   ]
  },
  {
   "cell_type": "code",
   "execution_count": null,
   "id": "3bc0f1f0-87c5-42a6-a45b-c46e97b11c56",
   "metadata": {},
   "outputs": [],
   "source": []
  },
  {
   "cell_type": "code",
   "execution_count": null,
   "id": "ed366ad1-e343-454b-8088-c92d33650bc0",
   "metadata": {},
   "outputs": [],
   "source": []
  },
  {
   "cell_type": "code",
   "execution_count": null,
   "id": "bb3a455c-131f-4cdf-a1d2-e93109faaa28",
   "metadata": {},
   "outputs": [],
   "source": []
  },
  {
   "cell_type": "code",
   "execution_count": null,
   "id": "1bc3615a-2ee4-4778-a5cf-b395fcfd64ab",
   "metadata": {},
   "outputs": [],
   "source": []
  },
  {
   "cell_type": "code",
   "execution_count": 4,
   "id": "b302d952-d93b-48df-b8cf-bc2a748edd28",
   "metadata": {},
   "outputs": [],
   "source": [
    "## total performance"
   ]
  },
  {
   "cell_type": "code",
   "execution_count": null,
   "id": "0045d22b-b503-43e2-8524-cabb6300e822",
   "metadata": {},
   "outputs": [],
   "source": []
  },
  {
   "cell_type": "code",
   "execution_count": null,
   "id": "ba3a131f-e037-4234-a611-75d3b43bb0cb",
   "metadata": {},
   "outputs": [],
   "source": []
  },
  {
   "cell_type": "code",
   "execution_count": null,
   "id": "b406fb34-e512-4617-83d6-0f5a546f4041",
   "metadata": {},
   "outputs": [],
   "source": []
  },
  {
   "cell_type": "code",
   "execution_count": null,
   "id": "ec7f74c2-75ea-49a4-8cdf-e9b9a7638a11",
   "metadata": {},
   "outputs": [],
   "source": []
  },
  {
   "cell_type": "code",
   "execution_count": null,
   "id": "ca3aa03f-e46e-4dcd-a80a-81de8d94b16d",
   "metadata": {},
   "outputs": [],
   "source": []
  },
  {
   "cell_type": "code",
   "execution_count": null,
   "id": "a53ef501-40cd-40c7-aa31-34bc272dc590",
   "metadata": {},
   "outputs": [],
   "source": []
  },
  {
   "cell_type": "code",
   "execution_count": null,
   "id": "368d59bb-173a-48d5-bb24-273c319c4333",
   "metadata": {},
   "outputs": [],
   "source": []
  },
  {
   "cell_type": "code",
   "execution_count": 2,
   "id": "cfbf1492-7dcf-4a0d-b317-81069381fd44",
   "metadata": {},
   "outputs": [],
   "source": [
    "## machine learning performance"
   ]
  },
  {
   "cell_type": "code",
   "execution_count": null,
   "id": "f1b6bbb2-90b2-4117-b85d-19d3a5b5d8e7",
   "metadata": {},
   "outputs": [],
   "source": []
  },
  {
   "cell_type": "code",
   "execution_count": null,
   "id": "4bf0dc45-26a0-4485-9d61-2dbdf8a8ae57",
   "metadata": {},
   "outputs": [],
   "source": []
  },
  {
   "cell_type": "code",
   "execution_count": null,
   "id": "2fce1faf-29e8-49b2-b57e-f4fdf8db503a",
   "metadata": {},
   "outputs": [],
   "source": [
    "analise de residuo melhorar o modelo de ml\n",
    "mostra os ponto fracos do modelo"
   ]
  },
  {
   "cell_type": "code",
   "execution_count": null,
   "id": "d1d7fdeb-8ea1-4f5e-a551-e429117e22b8",
   "metadata": {},
   "outputs": [],
   "source": []
  },
  {
   "cell_type": "code",
   "execution_count": null,
   "id": "d4cbe405-513c-4b8c-b6ea-bf790181006f",
   "metadata": {},
   "outputs": [],
   "source": []
  },
  {
   "cell_type": "code",
   "execution_count": null,
   "id": "a9b16fbf-2b00-42ee-9727-b2fbf5a48da5",
   "metadata": {},
   "outputs": [],
   "source": []
  }
 ],
 "metadata": {
  "kernelspec": {
   "display_name": "Python 3 (ipykernel)",
   "language": "python",
   "name": "python3"
  },
  "language_info": {
   "codemirror_mode": {
    "name": "ipython",
    "version": 3
   },
   "file_extension": ".py",
   "mimetype": "text/x-python",
   "name": "python",
   "nbconvert_exporter": "python",
   "pygments_lexer": "ipython3",
   "version": "3.12.2"
  }
 },
 "nbformat": 4,
 "nbformat_minor": 5
}
