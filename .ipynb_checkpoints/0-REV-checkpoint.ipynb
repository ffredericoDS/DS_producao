{
 "cells": [
  {
   "cell_type": "markdown",
   "id": "5e35b113-156b-484e-8125-b58a0b5feae1",
   "metadata": {
    "jp-MarkdownHeadingCollapsed": true
   },
   "source": [
    "# LAMBDA"
   ]
  },
  {
   "cell_type": "code",
   "execution_count": null,
   "id": "78829bb5-5922-4af2-b149-6a0b3d326f3e",
   "metadata": {},
   "outputs": [],
   "source": [
    "def calc(a,b):\n",
    "    c = a+b\n",
    "    return c\n",
    "calc(10,40)"
   ]
  },
  {
   "cell_type": "code",
   "execution_count": null,
   "id": "22bb6d6d-d4ba-4a35-9fd5-e5c887eb210a",
   "metadata": {},
   "outputs": [],
   "source": [
    "df.index"
   ]
  },
  {
   "cell_type": "code",
   "execution_count": 12,
   "id": "4bc0797a-4a40-4db6-b70a-4f938f967ca2",
   "metadata": {},
   "outputs": [
    {
     "data": {
      "text/plain": [
       "50"
      ]
     },
     "execution_count": 12,
     "metadata": {},
     "output_type": "execute_result"
    }
   ],
   "source": [
    "#lambda usar para função simples\n",
    "#nunca usar lambda em função cmplexas\n",
    "calc = lambda x,y: x+y\n",
    "calc(10,40)"
   ]
  },
  {
   "cell_type": "code",
   "execution_count": null,
   "id": "ddc27a7e-af68-4478-8add-2d4bd7e57d9d",
   "metadata": {},
   "outputs": [],
   "source": [
    "# lambda com condição\n",
    "#exemplo tirar $ de uma coluna chamada price\n",
    "#isso se nao tiover nenhum na \n",
    "df['price'].apply(lambda x : x.replace('$',''))\n",
    "#caso tenha , fazer considicional se faz dentro do lambda\n",
    "df['price'].apply(lambda x : VERDADEIRO CONDICIONAL FALSE)\n",
    "#se x x nao for nulo retorna essa funççao replace caso contrario só retorne x\n",
    "df['prince'].apply(lambda x : x.replace('$','') if pd.notnull(x)) else x\n",
    "\n",
    "\n",
    "#caso eu utilizar no df inteiro tem q explicar a coluna:\n",
    "#lembrar de usar o axis=1 para aplicar em todas as linhas\n",
    "df.apply(lambda x : x['prince'].replace('$','') if pd.notnull(x['prince'])) else x['prince'],axis=1)\n",
    "\n",
    "\n",
    "#apply com duas condição\n",
    "#caso a primeira condição for falsa , esa só vai realizar o false se a mesma condição for a verdadeira da outra condição\n",
    "df['prince','name'].apply(lambda x : VERDADEIRO CONDIÇÂO 01 FALSE|VERDADEIRO  CONDIÇÂO 02 FALSE )"
   ]
  },
  {
   "cell_type": "markdown",
   "id": "24bd8274-d47e-4485-9589-82dbdfa246a1",
   "metadata": {
    "jp-MarkdownHeadingCollapsed": true
   },
   "source": [
    "# MAP"
   ]
  },
  {
   "cell_type": "code",
   "execution_count": null,
   "id": "7749d656-d3d6-44e1-b207-d8f93f84948a",
   "metadata": {},
   "outputs": [],
   "source": [
    "#map\n",
    "#aplica uma função em uma estrutura de dados\n",
    "map(função,dados)"
   ]
  },
  {
   "cell_type": "code",
   "execution_count": 15,
   "id": "1d507ac6-0e71-493e-81c7-ea241d923545",
   "metadata": {},
   "outputs": [
    {
     "data": {
      "text/plain": [
       "['fred', 'r9', 'yuri', 'champ']"
      ]
     },
     "execution_count": 15,
     "metadata": {},
     "output_type": "execute_result"
    }
   ],
   "source": [
    "cols_old = ['Fred','R9','Yuri','Champ']\n",
    "\n",
    "snakecase = lambda x: x.lower()\n",
    "list(map(snakecase,cols_old))"
   ]
  },
  {
   "cell_type": "code",
   "execution_count": 16,
   "id": "fa189150-0da8-4d79-aa67-3cb63c77dac0",
   "metadata": {},
   "outputs": [],
   "source": [
    "import pandas as pd\n",
    "\n",
    "# Dados\n",
    "dados = {\n",
    "    'Nome': ['Alice', 'Bob', 'Charlie', 'David'],\n",
    "    'Idade': [25, 30, 35, 40],\n",
    "    'Cidade': ['Nova York', 'Los Angeles', 'Chicago', 'Houston']\n",
    "}\n",
    "\n",
    "# Criando o DataFrame\n",
    "df = pd.DataFrame(dados)"
   ]
  },
  {
   "cell_type": "code",
   "execution_count": 22,
   "id": "40b3678a-d732-4366-8775-f8bbcf9e5733",
   "metadata": {},
   "outputs": [
    {
     "data": {
      "text/html": [
       "<div>\n",
       "<style scoped>\n",
       "    .dataframe tbody tr th:only-of-type {\n",
       "        vertical-align: middle;\n",
       "    }\n",
       "\n",
       "    .dataframe tbody tr th {\n",
       "        vertical-align: top;\n",
       "    }\n",
       "\n",
       "    .dataframe thead th {\n",
       "        text-align: right;\n",
       "    }\n",
       "</style>\n",
       "<table border=\"1\" class=\"dataframe\">\n",
       "  <thead>\n",
       "    <tr style=\"text-align: right;\">\n",
       "      <th></th>\n",
       "      <th>Nome</th>\n",
       "      <th>Idade</th>\n",
       "      <th>Cidade</th>\n",
       "      <th>new_altura</th>\n",
       "      <th>new_idade</th>\n",
       "    </tr>\n",
       "  </thead>\n",
       "  <tbody>\n",
       "    <tr>\n",
       "      <th>0</th>\n",
       "      <td>Alice</td>\n",
       "      <td>25</td>\n",
       "      <td>Nova York</td>\n",
       "      <td>125</td>\n",
       "      <td>125</td>\n",
       "    </tr>\n",
       "    <tr>\n",
       "      <th>1</th>\n",
       "      <td>Bob</td>\n",
       "      <td>30</td>\n",
       "      <td>Los Angeles</td>\n",
       "      <td>130</td>\n",
       "      <td>130</td>\n",
       "    </tr>\n",
       "    <tr>\n",
       "      <th>2</th>\n",
       "      <td>Charlie</td>\n",
       "      <td>35</td>\n",
       "      <td>Chicago</td>\n",
       "      <td>135</td>\n",
       "      <td>135</td>\n",
       "    </tr>\n",
       "    <tr>\n",
       "      <th>3</th>\n",
       "      <td>David</td>\n",
       "      <td>40</td>\n",
       "      <td>Houston</td>\n",
       "      <td>140</td>\n",
       "      <td>140</td>\n",
       "    </tr>\n",
       "  </tbody>\n",
       "</table>\n",
       "</div>"
      ],
      "text/plain": [
       "      Nome  Idade       Cidade  new_altura  new_idade\n",
       "0    Alice     25    Nova York         125        125\n",
       "1      Bob     30  Los Angeles         130        130\n",
       "2  Charlie     35      Chicago         135        135\n",
       "3    David     40      Houston         140        140"
      ]
     },
     "execution_count": 22,
     "metadata": {},
     "output_type": "execute_result"
    }
   ],
   "source": [
    "new_old = lambda x : x+100\n",
    "df['new_idade'] = list(map(new_old,dados['Idade']))\n",
    "df"
   ]
  },
  {
   "cell_type": "markdown",
   "id": "7cc88e07-df37-4c0d-a99e-421477e68c58",
   "metadata": {
    "jp-MarkdownHeadingCollapsed": true
   },
   "source": [
    "# APPLY"
   ]
  },
  {
   "cell_type": "code",
   "execution_count": 25,
   "id": "8e091796-d94c-4caa-8455-dc523ec31c32",
   "metadata": {},
   "outputs": [
    {
     "data": {
      "text/html": [
       "<div>\n",
       "<style scoped>\n",
       "    .dataframe tbody tr th:only-of-type {\n",
       "        vertical-align: middle;\n",
       "    }\n",
       "\n",
       "    .dataframe tbody tr th {\n",
       "        vertical-align: top;\n",
       "    }\n",
       "\n",
       "    .dataframe thead th {\n",
       "        text-align: right;\n",
       "    }\n",
       "</style>\n",
       "<table border=\"1\" class=\"dataframe\">\n",
       "  <thead>\n",
       "    <tr style=\"text-align: right;\">\n",
       "      <th></th>\n",
       "      <th>Nome</th>\n",
       "      <th>Idade</th>\n",
       "      <th>Cidade</th>\n",
       "      <th>new_altura</th>\n",
       "      <th>new_idade</th>\n",
       "      <th>df_new_idade_barra_10</th>\n",
       "    </tr>\n",
       "  </thead>\n",
       "  <tbody>\n",
       "    <tr>\n",
       "      <th>0</th>\n",
       "      <td>Alice</td>\n",
       "      <td>25</td>\n",
       "      <td>Nova York</td>\n",
       "      <td>125</td>\n",
       "      <td>125</td>\n",
       "      <td>2.5</td>\n",
       "    </tr>\n",
       "    <tr>\n",
       "      <th>1</th>\n",
       "      <td>Bob</td>\n",
       "      <td>30</td>\n",
       "      <td>Los Angeles</td>\n",
       "      <td>130</td>\n",
       "      <td>130</td>\n",
       "      <td>3.0</td>\n",
       "    </tr>\n",
       "    <tr>\n",
       "      <th>2</th>\n",
       "      <td>Charlie</td>\n",
       "      <td>35</td>\n",
       "      <td>Chicago</td>\n",
       "      <td>135</td>\n",
       "      <td>135</td>\n",
       "      <td>3.5</td>\n",
       "    </tr>\n",
       "    <tr>\n",
       "      <th>3</th>\n",
       "      <td>David</td>\n",
       "      <td>40</td>\n",
       "      <td>Houston</td>\n",
       "      <td>140</td>\n",
       "      <td>140</td>\n",
       "      <td>4.0</td>\n",
       "    </tr>\n",
       "  </tbody>\n",
       "</table>\n",
       "</div>"
      ],
      "text/plain": [
       "      Nome  Idade       Cidade  new_altura  new_idade  df_new_idade_barra_10\n",
       "0    Alice     25    Nova York         125        125                    2.5\n",
       "1      Bob     30  Los Angeles         130        130                    3.0\n",
       "2  Charlie     35      Chicago         135        135                    3.5\n",
       "3    David     40      Houston         140        140                    4.0"
      ]
     },
     "execution_count": 25,
     "metadata": {},
     "output_type": "execute_result"
    }
   ],
   "source": [
    "df['df_new_idade_barra_10'] = df['Idade'].apply(lambda x : x/10)\n",
    "df"
   ]
  },
  {
   "cell_type": "code",
   "execution_count": null,
   "id": "b68b1763-3bfa-4c81-87e9-14cf3531fd4a",
   "metadata": {},
   "outputs": [],
   "source": [
    "apply funciona igual o map , aplicar uma função em todas as linhas de uma coluna mas de forma mais direta\n",
    "melhor usar o apply \n",
    "map é mais generico apply é para pandas , so consegue usar o apply em dataframe nao consegue usar ele em list por exemplo\n"
   ]
  },
  {
   "cell_type": "code",
   "execution_count": 26,
   "id": "4eab4423-d3e7-4b88-9c5e-bfc69df2108e",
   "metadata": {},
   "outputs": [
    {
     "data": {
      "text/html": [
       "<div>\n",
       "<style scoped>\n",
       "    .dataframe tbody tr th:only-of-type {\n",
       "        vertical-align: middle;\n",
       "    }\n",
       "\n",
       "    .dataframe tbody tr th {\n",
       "        vertical-align: top;\n",
       "    }\n",
       "\n",
       "    .dataframe thead th {\n",
       "        text-align: right;\n",
       "    }\n",
       "</style>\n",
       "<table border=\"1\" class=\"dataframe\">\n",
       "  <thead>\n",
       "    <tr style=\"text-align: right;\">\n",
       "      <th></th>\n",
       "      <th>Nome</th>\n",
       "      <th>Idade</th>\n",
       "      <th>Cidade</th>\n",
       "      <th>new_altura</th>\n",
       "      <th>new_idade</th>\n",
       "      <th>df_new_idade_barra_10</th>\n",
       "    </tr>\n",
       "  </thead>\n",
       "  <tbody>\n",
       "    <tr>\n",
       "      <th>0</th>\n",
       "      <td>Alice</td>\n",
       "      <td>25</td>\n",
       "      <td>Nova York</td>\n",
       "      <td>125</td>\n",
       "      <td>125</td>\n",
       "      <td>2.5</td>\n",
       "    </tr>\n",
       "    <tr>\n",
       "      <th>1</th>\n",
       "      <td>Bob</td>\n",
       "      <td>30</td>\n",
       "      <td>Los Angeles</td>\n",
       "      <td>130</td>\n",
       "      <td>130</td>\n",
       "      <td>3.0</td>\n",
       "    </tr>\n",
       "    <tr>\n",
       "      <th>2</th>\n",
       "      <td>Charlie</td>\n",
       "      <td>35</td>\n",
       "      <td>Chicago</td>\n",
       "      <td>135</td>\n",
       "      <td>135</td>\n",
       "      <td>3.5</td>\n",
       "    </tr>\n",
       "    <tr>\n",
       "      <th>3</th>\n",
       "      <td>David</td>\n",
       "      <td>40</td>\n",
       "      <td>Houston</td>\n",
       "      <td>140</td>\n",
       "      <td>140</td>\n",
       "      <td>4.0</td>\n",
       "    </tr>\n",
       "  </tbody>\n",
       "</table>\n",
       "</div>"
      ],
      "text/plain": [
       "      Nome  Idade       Cidade  new_altura  new_idade  df_new_idade_barra_10\n",
       "0    Alice     25    Nova York         125        125                    2.5\n",
       "1      Bob     30  Los Angeles         130        130                    3.0\n",
       "2  Charlie     35      Chicago         135        135                    3.5\n",
       "3    David     40      Houston         140        140                    4.0"
      ]
     },
     "execution_count": 26,
     "metadata": {},
     "output_type": "execute_result"
    }
   ],
   "source": [
    "funct = lambda x : x/10\n",
    "df['df_new_idade_barra_10'] = df['Idade'].apply(funct)\n",
    "df"
   ]
  },
  {
   "cell_type": "markdown",
   "id": "84870459-357e-48b8-bab0-54f1225d779a",
   "metadata": {
    "jp-MarkdownHeadingCollapsed": true
   },
   "source": [
    "# STATISTIC "
   ]
  },
  {
   "cell_type": "code",
   "execution_count": null,
   "id": "cf740374-411b-4208-8408-b2e5caf37c4e",
   "metadata": {},
   "outputs": [],
   "source": [
    "metrica de dispersão KURTOSIS = o quao concentrado os dados estão fazendoi picos\n",
    "\n",
    "\n",
    "distorce o valor da média pois é sensivel a dados desbalanceados\n",
    "\n",
    "distribuição dos dados entorno da media\n",
    "Quando a curtose é positiva, isso indica uma distribuição mais pontiaguda (leptocurtica), e fazem caldas e entao quer dizer que é\n",
    "mais dificil ter valores muito baixos ou muito altos\n",
    "\n",
    "e quando é negativa, indica uma distribuição mais achatada (platicurtica)\n",
    "\n",
    "em ciencia de dados uma alta curtosi significa os dados muito em torno da média e isso pode enviesar os dados e o melhor é ter\n",
    "dados balanceados para nao interferir nos modelo de ML\n",
    "\n",
    "quanto mais pontudo o grafico mais os dados estão concentrados ali\n",
    "quanto mais achatado mais os dados estaão dispersos\n",
    "kurtosi = 0 os dados estão distribuidos igualmentes"
   ]
  },
  {
   "cell_type": "code",
   "execution_count": null,
   "id": "a4d23faa-7f95-41bf-b5bf-36a31fe195ea",
   "metadata": {},
   "outputs": [],
   "source": []
  },
  {
   "cell_type": "code",
   "execution_count": null,
   "id": "e258d728-2b03-4595-af73-4f419344def0",
   "metadata": {},
   "outputs": [],
   "source": [
    "metrica de dispersão SKEWNESS\n",
    "por padrao ela é a curva normal e é =0\n",
    "Em outras palavras, a skewness indica se os dados estão distribuídos de forma simétrica ou assimétrica em relação à média.\n",
    "\n",
    "K >0 assimetria a direita , demostra que a maioria dos dados nao são maiores que a média\n",
    "K<0 assimetra a esquerda , demostra que a maioria dos dados estão acima da media\n",
    "K=0 tabela normal\n",
    "distorce o valor da média pois é sensivel a dados desbalanceados"
   ]
  },
  {
   "cell_type": "code",
   "execution_count": null,
   "id": "36713283-d9c5-4c27-8d69-fca8df3e3252",
   "metadata": {},
   "outputs": [],
   "source": []
  },
  {
   "cell_type": "code",
   "execution_count": null,
   "id": "0708315a-ff2e-4e0b-8358-44bdbc80dfaa",
   "metadata": {},
   "outputs": [],
   "source": [
    "box plot  seaborn \n",
    "outliers 3x desv padrao\n",
    "\n",
    "Quando a mediana está próxima do primeiro quartil em um box plot, isso sugere que a distribuição dos dados é\n",
    "tendenciosa para os valores menores. Isso pode ter várias implicações, dependendo do contexto:\n",
    "Concentração de dados: Indica que a maioria dos dados está concentrada nas partes inferiores da distribuição, o que pode sugerir uma tendência para valores mais baixos.\n",
    "Assimetria: A distribuição dos dados pode ser assimétrica, com uma cauda mais longa em direção aos valores menores.\n",
    "Possível presença de outliers: Se a distribuição é assimétrica e estendida para valores menores, pode haver outliers nos valores menores que estão distorcendo a \n",
    "distribuição. É importante investigar esses valores para determinar sua relevância para a análise.\n",
    "\n",
    "\n",
    "Em resumo, uma mediana próxima do terceiro quartil em um box plot indica uma distribuição tendenciosa para os valores maiores, \n",
    "o que pode ter implicações importantes para a interpretação dos dados, como a ausência de outliers significativos ou uma tendência geral dos dados para valores \n",
    "mais altos."
   ]
  },
  {
   "cell_type": "code",
   "execution_count": null,
   "id": "66a16bea-d996-40d7-8f89-76d1f4cb65e6",
   "metadata": {},
   "outputs": [],
   "source": [
    ".T\n",
    "inverte a coluna de posição x vira y , y vira x\n",
    "\n",
    "RANGE - disperção\n",
    "caso o range seja muito grande a diferença entre o max-min for muito grande os dados estão bem espalhados caso contrario nao \n",
    "\n",
    "media mediana mdda - é uma forma de escolher um numero que resuma todos os numero do nosso conkjunto de dados\n",
    "mediana n sofre com outliers"
   ]
  },
  {
   "cell_type": "code",
   "execution_count": null,
   "id": "5a8086a9-fbf6-4ff4-b469-61d4d087e5f5",
   "metadata": {},
   "outputs": [],
   "source": [
    "skwness - Assimetria da distribuição dos dados em relação a media(direita ou esquerda)\n",
    "kurtossi evidencia de caudas formam picos (baixa probabilidade de acontecer valores extremos)"
   ]
  },
  {
   "cell_type": "markdown",
   "id": "a3b0d36c-3e48-436e-a7fc-f19925d271c4",
   "metadata": {
    "jp-MarkdownHeadingCollapsed": true
   },
   "source": [
    "# DAta Warehouse"
   ]
  },
  {
   "cell_type": "code",
   "execution_count": null,
   "id": "38bf1612-64a1-4384-94e5-8c65802b8a4a",
   "metadata": {},
   "outputs": [],
   "source": [
    "quais os aplicativos de data warehouse\n",
    "Snowflake\n",
    "Amazon Redshift: Um serviço de data warehousing totalmente gerenciado pela Amazon Web Services (AWS)\n",
    "Google BigQuery: Um data warehouse na nuvem totalmente gerenciado pelo Google Cloud Platform (GCP), \n",
    "Microsoft Azure Synapse Analytics\n",
    "\n",
    "User\n",
    "o postgree é data warehouse ?\n",
    "O PostgreSQL é um sistema de gerenciamento de banco de dados relacional (RDBMS) de código aberto extremamente poderoso e versátil. \n",
    "Embora o PostgreSQL seja capaz de lidar com cargas de trabalho de data warehousing, ele não é estritamente um \"data warehouse\" por si só.\n",
    "No entanto, o PostgreSQL pode ser utilizado como parte de uma solução de data warehousing. Muitas organizações utilizam o PostgreSQL como banco de dados principal \n",
    "para armazenar e gerenciar os dados em seus data warehouses. \n",
    "\n",
    "quer dizer que os dados ficam guardado dentro do data warehouse e o postgree eu pego esses dados dentro do data warehouse e analisa-los ?\n",
    "Exatamente. Em um ambiente de data warehousing típico, os dados são armazenados e gerenciados dentro do próprio data warehouse\n",
    "Portanto, em uma arquitetura de data warehousing que utiliza o PostgreSQL, os dados podem ser carregados e armazenados no data warehouse\n",
    "(por exemplo, usando um dos sistemas mencionados anteriormente, como Snowflake, Redshift, BigQuery, etc.). \n",
    "Em seguida, você pode usar o PostgreSQL para acessar esses dados armazenados no data warehouse e realizar análises sobre eles.\n",
    "Isso pode envolver a execução de consultas complexas, criação de relatórios, análises ad-hoc e muito mais, \n",
    "tudo utilizando as capacidades de processamento e consulta do PostgreSQL.\n",
    "Em resumo, o PostgreSQL pode ser utilizado como parte de uma solução de data warehousing para acessar e analisar os dados armazenados no data warehouse. \n",
    "Ele desempenha um papel importante na análise e extração de insights dos dados, complementando as capacidades do data warehouse."
   ]
  },
  {
   "cell_type": "code",
   "execution_count": null,
   "id": "c064dc37-1cef-453e-9d66-f3ac26567fdb",
   "metadata": {},
   "outputs": [],
   "source": [
    "banco de dados é o data waehouse?\n",
    "\n",
    "Não, um banco de dados não é o mesmo que um data warehouse, embora ambos sejam usados para armazenar e gerenciar dados. \n",
    "Aqui está a diferença básica entre os dois:\n",
    "\n",
    "Banco de Dados (Database):\n",
    "Um banco de dados é uma coleção organizada de dados relacionados. Ele é projetado para oferecer uma maneira eficiente de armazenar, recuperar e gerenciar dados.\n",
    "Os bancos de dados são frequentemente usados para aplicativos transacionais, nos quais há muitas operações de inserção, atualização e exclusão de dados.\n",
    "Exemplos de bancos de dados incluem MySQL, PostgreSQL, Oracle Database, SQL Server, entre outros.\n",
    "\n",
    "    Data Warehouse:\n",
    "Um data warehouse é um tipo específico de banco de dados que é otimizado para análise e relatórios. Ele é usado para armazenar grandes volumes de dados históricos \n",
    "de várias fontes de dados diferentes.\n",
    "Os data warehouses são projetados para fornecer acesso rápido e eficiente aos dados para fins de análise de negócios, tomada de decisões e geração de relatórios.\n",
    "Eles geralmente envolvem processos de extração, transformação e carregamento (ETL) para consolidar e integrar dados de várias fontes.\n",
    "Exemplos de plataformas de data warehouse incluem Amazon Redshift, Google BigQuery, Snowflake, entre outros.\n",
    "Em resumo, enquanto um banco de dados é uma coleção organizada de dados que pode ser usada para várias finalidades, \n",
    "um data warehouse é um tipo específico de banco de dados otimizado para análise e relatórios de grandes volumes de dados históricos.\n",
    "\n",
    "Data warehouse vs.\n",
    "Um banco de dados armazena dados geralmente de uma determinada área de negócio. \n",
    "Um data warehouse armazena dados atuais e históricos de toda a empresa e alimenta o BI e as funções analíticas."
   ]
  },
  {
   "cell_type": "markdown",
   "id": "b9c3e792-87a7-4824-84f5-6787f878c43e",
   "metadata": {
    "jp-MarkdownHeadingCollapsed": true
   },
   "source": [
    "# GIT"
   ]
  },
  {
   "cell_type": "code",
   "execution_count": null,
   "id": "1991e9d4-bf5a-4690-b243-c188a1cd4e01",
   "metadata": {},
   "outputs": [],
   "source": [
    "git remote -v\n",
    "ver quais repositório remoto está conectado na meu repositorio local"
   ]
  }
 ],
 "metadata": {
  "kernelspec": {
   "display_name": "Python 3 (ipykernel)",
   "language": "python",
   "name": "python3"
  },
  "language_info": {
   "codemirror_mode": {
    "name": "ipython",
    "version": 3
   },
   "file_extension": ".py",
   "mimetype": "text/x-python",
   "name": "python",
   "nbconvert_exporter": "python",
   "pygments_lexer": "ipython3",
   "version": "3.12.2"
  }
 },
 "nbformat": 4,
 "nbformat_minor": 5
}
